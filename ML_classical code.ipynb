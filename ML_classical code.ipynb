{
 "cells": [
  {
   "cell_type": "markdown",
   "metadata": {},
   "source": [
    "# ML Decoder for classical code"
   ]
  },
  {
   "cell_type": "code",
   "execution_count": 229,
   "metadata": {},
   "outputs": [],
   "source": [
    "import numpy as np\n",
    "import networkx as nx\n",
    "import matplotlib.pyplot as plt\n",
    "import galois\n",
    "\n",
    "import torch\n",
    "import torch.nn as nn\n",
    "from torch.optim import SGD\n",
    "import torch.nn.functional as F\n",
    "from torch.utils.data import Dataset, DataLoader\n",
    "import torchvision"
   ]
  },
  {
   "cell_type": "code",
   "execution_count": 230,
   "metadata": {},
   "outputs": [],
   "source": [
    "def tanner_graph(H: np.ndarray):\n",
    "    \"Create tanner graph from a parity check matrix H.\"\n",
    "    m, n = H.shape\n",
    "    T = nx.Graph()\n",
    "\n",
    "    T.H = H\n",
    "    # nodes\n",
    "    T.VD = [i for i in range(n)]\n",
    "    T.VC = [-j-1 for j in range(m)]\n",
    "\n",
    "    # add them, with positions\n",
    "    for i, node in enumerate(T.VD):\n",
    "        T.add_node(node, pos=(i-n/2, 0), label='$d_{'+str(i)+'}$')\n",
    "    for j, node in enumerate(T.VC):\n",
    "        T.add_node(node, pos=(j-m/2, 1), label='$c_{'+str(j)+'}$')\n",
    "\n",
    "    # add checks to graph\n",
    "    for j, check in enumerate(H):\n",
    "        for i, v in enumerate(check):\n",
    "            if v:\n",
    "                T.add_edge(-j-1, i)\n",
    "\n",
    "    return T\n",
    "\n",
    "def draw_tanner_graph(T, highlight_vertices=None):\n",
    "    \"Draw the graph. highlight_vertices is a list of vertices to be colored.\"\n",
    "    pl=nx.get_node_attributes(T,'pos')\n",
    "    lbls = nx.get_node_attributes(T, 'label')\n",
    "\n",
    "    nx.draw_networkx_nodes(T, pos=pl, nodelist=T.VD, node_shape='o')\n",
    "    nx.draw_networkx_nodes(T, pos=pl, nodelist=T.VC, node_shape='s')\n",
    "    nx.draw_networkx_labels(T, pos=pl, labels=lbls)\n",
    "\n",
    "    nx.draw_networkx_edges(T, pos=pl)\n",
    "\n",
    "    if highlight_vertices:\n",
    "        nx.draw_networkx_nodes(T,\n",
    "                               pos=pl,\n",
    "                               nodelist=[int(v[:]) for v in highlight_vertices if v[0] == 'd'],\n",
    "                               node_color='red',\n",
    "                               node_shape='o')\n",
    "        nx.draw_networkx_nodes(T,\n",
    "                       pos=pl,\n",
    "                       nodelist=[-int(v[:])-1 for v in highlight_vertices if v[0] == 'c'],\n",
    "                       node_color='red',\n",
    "                       node_shape='s')\n",
    "\n",
    "    plt.axis('off');\n",
    "\n",
    "# these four functions allow us to convert between \n",
    "# (s)tring names of vertices and (i)nteger names of vertices\n",
    "def s2i(node):\n",
    "    return int(node[1]) if node[0] == 'd' else -int(node[1])-1\n",
    "\n",
    "def i2s(node):\n",
    "    return f'd{node}' if node>=0 else f'c{-node-1}'\n",
    "\n",
    "def ms2i(W: set):\n",
    "    return set(map(s2i, W))\n",
    "\n",
    "def mi2s(W: set):\n",
    "    return set(map(i2s, W))"
   ]
  },
  {
   "cell_type": "markdown",
   "metadata": {},
   "source": [
    " ## We will try to train a decoder for the [5,2,3] code\n",
    " * 5 qubits\n",
    " * 2 logicals\n",
    " * distance 3"
   ]
  },
  {
   "cell_type": "code",
   "execution_count": 231,
   "metadata": {},
   "outputs": [
    {
     "data": {
      "image/png": "[encoded data removed]",
      "text/plain": [
       "<Figure size 640x480 with 1 Axes>"
      ]
     },
     "metadata": {},
     "output_type": "display_data"
    }
   ],
   "source": [
    "H = np.array([[1,1,0,1,0], [0,1,0,0,1], [0,0,1,1,0]])\n",
    "\n",
    "T = tanner_graph(H)\n",
    "draw_tanner_graph(T)\n",
    "\n",
    "n_qubits = H.shape[1]\n",
    "n_stab = H.shape[0]"
   ]
  },
  {
   "cell_type": "markdown",
   "metadata": {},
   "source": [
    "The distance is 3 so we will train the decoder on errors configurations with at most 2 errors.\n",
    "\n",
    "Lets create a dictionary between at most 2 error configurations and integers"
   ]
  },
  {
   "cell_type": "code",
   "execution_count": 232,
   "metadata": {},
   "outputs": [],
   "source": [
    "E_list = [torch.tensor([0]*5, dtype=torch.float)]\n",
    "\n",
    "for i in range(5):\n",
    "    for j in range(i,5):\n",
    "        E = [0]*5\n",
    "        E[i] = 1\n",
    "        if j>=i:\n",
    "            E[j] = 1\n",
    "        E_list.append(torch.tensor(E, dtype = torch.int))\n",
    "\n",
    "\n",
    "num_to_E_dictionary = {}\n",
    "num_to_one_hot = {}\n",
    "for i, E in enumerate(E_list):\n",
    "    num_to_E_dictionary[i] = E\n",
    "    num_to_one_hot[i] = F.one_hot(torch.tensor([i]), num_classes = len(E_list)).to(float)\n"
   ]
  },
  {
   "cell_type": "code",
   "execution_count": 233,
   "metadata": {},
   "outputs": [
    {
     "data": {
      "text/plain": [
       "tensor([0., 1., 0., 0., 0., 0., 0., 0., 0., 0., 0., 0., 0., 0., 0., 0.],\n",
       "       dtype=torch.float64)"
      ]
     },
     "execution_count": 233,
     "metadata": {},
     "output_type": "execute_result"
    }
   ],
   "source": [
    "num_to_one_hot[1].view(len(E_list))"
   ]
  },
  {
   "cell_type": "code",
   "execution_count": 234,
   "metadata": {},
   "outputs": [],
   "source": [
    "def Error():\n",
    "    num = np.random.randint(0,len(E_list))\n",
    "    error = num_to_E_dictionary[num]\n",
    "\n",
    "    return error"
   ]
  },
  {
   "cell_type": "markdown",
   "metadata": {},
   "source": [
    "Let's make data set: [(syndrome, error)]"
   ]
  },
  {
   "cell_type": "code",
   "execution_count": 235,
   "metadata": {},
   "outputs": [],
   "source": [
    "error_num_dataset = []\n",
    "N_dataset = 10**4\n",
    "\n",
    "while len(error_num_dataset) <N_dataset:\n",
    "    num = np.random.randint(0,len(E_list))\n",
    "    error_one_hot = num_to_one_hot[num]\n",
    "    error = num_to_E_dictionary[num]\n",
    "    syndrome = (H @ np.array(error))%2\n",
    "    error_num_dataset.append((torch.tensor(syndrome, dtype = torch.float), error_one_hot.view(len(E_list))))"
   ]
  },
  {
   "cell_type": "code",
   "execution_count": 265,
   "metadata": {},
   "outputs": [],
   "source": [
    "class MyNeuralNet(nn.Module):\n",
    "    def __init__(self):\n",
    "        super().__init__()\n",
    "        self.Matrix1 = nn.Linear(3,250)\n",
    "        self.Matrix2 = nn.Linear(250,50)\n",
    "        self.Matrix3 = nn.Linear(50,100)\n",
    "        self.Matrix4 = nn.Linear(100,len(E_list))\n",
    "        self.R = nn.ReLU()\n",
    "    def forward(self,x):\n",
    "        x = x.view(-1,3)\n",
    "        x = self.R(self.Matrix1(x))\n",
    "        x = self.R(self.Matrix2(x))\n",
    "        x = self.R(self.Matrix3(x))\n",
    "        x = self.Matrix4(x)\n",
    "        return x.squeeze()"
   ]
  },
  {
   "cell_type": "code",
   "execution_count": 266,
   "metadata": {},
   "outputs": [],
   "source": [
    "f = MyNeuralNet()"
   ]
  },
  {
   "cell_type": "code",
   "execution_count": 267,
   "metadata": {},
   "outputs": [],
   "source": [
    "train_dl = DataLoader(error_num_dataset, batch_size= 5)"
   ]
  },
  {
   "cell_type": "markdown",
   "metadata": {},
   "source": [
    "Now lets train:"
   ]
  },
  {
   "cell_type": "code",
   "execution_count": 268,
   "metadata": {},
   "outputs": [],
   "source": [
    "max_epoch = 40\n",
    "\n",
    "def train_model(dl, f, n_epochs = max_epoch):\n",
    "    opt = SGD(f.parameters(), lr = .01)\n",
    "    L = nn.CrossEntropyLoss()\n",
    "\n",
    "    losses = []\n",
    "    epochs = []\n",
    "    for epoch in range(n_epochs):\n",
    "        print(f'Epoch {epoch}')\n",
    "        N = len(dl)\n",
    "\n",
    "        for i, (x,y) in enumerate(dl):\n",
    "            opt.zero_grad()\n",
    "            loss_value = L(f(x), y)\n",
    "            loss_value.backward()\n",
    "            opt.step()\n",
    "            # store training history\n",
    "\n",
    "            epochs.append(epoch +i/N)\n",
    "            losses.append(loss_value.item())\n",
    "        \n",
    "    return np.array(epochs), np.array(losses)"
   ]
  },
  {
   "cell_type": "code",
   "execution_count": 269,
   "metadata": {},
   "outputs": [
    {
     "name": "stdout",
     "output_type": "stream",
     "text": [
      "Epoch 0\n",
      "Epoch 1\n",
      "Epoch 2\n",
      "Epoch 3\n",
      "Epoch 4\n",
      "Epoch 5\n",
      "Epoch 6\n",
      "Epoch 7\n",
      "Epoch 8\n",
      "Epoch 9\n",
      "Epoch 10\n",
      "Epoch 11\n",
      "Epoch 12\n",
      "Epoch 13\n",
      "Epoch 14\n",
      "Epoch 15\n",
      "Epoch 16\n",
      "Epoch 17\n",
      "Epoch 18\n",
      "Epoch 19\n",
      "Epoch 20\n",
      "Epoch 21\n",
      "Epoch 22\n",
      "Epoch 23\n",
      "Epoch 24\n",
      "Epoch 25\n",
      "Epoch 26\n",
      "Epoch 27\n",
      "Epoch 28\n",
      "Epoch 29\n",
      "Epoch 30\n",
      "Epoch 31\n",
      "Epoch 32\n",
      "Epoch 33\n",
      "Epoch 34\n",
      "Epoch 35\n",
      "Epoch 36\n",
      "Epoch 37\n",
      "Epoch 38\n",
      "Epoch 39\n"
     ]
    }
   ],
   "source": [
    "epoch_data, loss_data = train_model(train_dl,f)"
   ]
  },
  {
   "cell_type": "code",
   "execution_count": 270,
   "metadata": {},
   "outputs": [
    {
     "data": {
      "text/plain": [
       "[<matplotlib.lines.Line2D at 0x29160cd90>]"
      ]
     },
     "execution_count": 270,
     "metadata": {},
     "output_type": "execute_result"
    },
    {
     "data": {
      "image/png": "[encoded data removed]",
      "text/plain": [
       "<Figure size 640x480 with 1 Axes>"
      ]
     },
     "metadata": {},
     "output_type": "display_data"
    }
   ],
   "source": [
    "plt.plot(epoch_data.reshape(max_epoch,-1).mean(axis=1), loss_data.reshape(max_epoch,-1).mean(axis=1))"
   ]
  },
  {
   "cell_type": "markdown",
   "metadata": {},
   "source": [
    "No let's test"
   ]
  },
  {
   "cell_type": "code",
   "execution_count": 271,
   "metadata": {},
   "outputs": [],
   "source": [
    "test_data_set = []\n",
    "N_dataset = 10**4\n",
    "\n",
    "while len(test_data_set) <N_dataset:\n",
    "    num = np.random.randint(0,len(E_list))\n",
    "    error_one_hot = num_to_one_hot[num]\n",
    "    error = num_to_E_dictionary[num]\n",
    "    syndrome = (H @ np.array(error))%2\n",
    "    test_data_set.append((torch.tensor(syndrome, dtype = torch.float), error_one_hot.view(len(E_list)), num))"
   ]
  },
  {
   "cell_type": "markdown",
   "metadata": {},
   "source": [
    "Now lets test error correction performance:"
   ]
  },
  {
   "cell_type": "code",
   "execution_count": 272,
   "metadata": {},
   "outputs": [],
   "source": [
    "L1 = np.array([1,1,1,1,1])\n",
    "L2 = np.array([0,1,0,0,1])"
   ]
  },
  {
   "cell_type": "code",
   "execution_count": 273,
   "metadata": {},
   "outputs": [
    {
     "name": "stdout",
     "output_type": "stream",
     "text": [
      "info preserved 0.6888 percent\n"
     ]
    }
   ],
   "source": [
    "N = len(test_data_set)\n",
    "success = 0\n",
    "for i, (x,y,z) in enumerate(test_data_set):\n",
    "    pred_num = f(x).argmax().item()\n",
    "    pred_error = np.array(num_to_E_dictionary[pred_num])\n",
    "\n",
    "    true_error = np.array(num_to_E_dictionary[z])\n",
    "\n",
    "    if (L1 @ (true_error-pred_error))%2 ==0 and (L2 @ (true_error-pred_error))%2 ==0:\n",
    "        success+=1\n",
    "\n",
    "\n",
    "print(f'info preserved {success/N} percent')\n"
   ]
  },
  {
   "cell_type": "code",
   "execution_count": 274,
   "metadata": {},
   "outputs": [
    {
     "data": {
      "text/plain": [
       "0"
      ]
     },
     "execution_count": 274,
     "metadata": {},
     "output_type": "execute_result"
    }
   ],
   "source": [
    "test_data_set[0][0].argmax().item()"
   ]
  },
  {
   "cell_type": "code",
   "execution_count": null,
   "metadata": {},
   "outputs": [],
   "source": []
  }
 ],
 "metadata": {
  "kernelspec": {
   "display_name": "Python 3.10.8 64-bit",
   "language": "python",
   "name": "python3"
  },
  "language_info": {
   "codemirror_mode": {
    "name": "ipython",
    "version": 3
   },
   "file_extension": ".py",
   "mimetype": "text/x-python",
   "name": "python",
   "nbconvert_exporter": "python",
   "pygments_lexer": "ipython3",
   "version": "3.10.8"
  },
  "orig_nbformat": 4,
  "vscode": {
   "interpreter": {
    "hash": "aee8b7b246df8f9039afb4144a1f6fd8d2ca17a180786b69acc140d282b71a49"
   }
  }
 },
 "nbformat": 4,
 "nbformat_minor": 2
}
